{
  "nbformat": 4,
  "nbformat_minor": 0,
  "metadata": {
    "colab": {
      "name": "A3.ipynb",
      "provenance": [],
      "collapsed_sections": []
    },
    "kernelspec": {
      "display_name": "Python 3",
      "name": "python3"
    },
    "language_info": {
      "name": "python"
    }
  },
  "cells": [
    {
      "cell_type": "code",
      "metadata": {
        "colab": {
          "base_uri": "https://localhost:8080/"
        },
        "id": "Z5N_vWgFq_z8",
        "outputId": "0a83022d-2b9e-4e22-8bcd-5d086ec8b742"
      },
      "source": [
        "!pip install jsonlines"
      ],
      "execution_count": 50,
      "outputs": [
        {
          "output_type": "stream",
          "text": [
            "Requirement already satisfied: jsonlines in /usr/local/lib/python3.7/dist-packages (2.0.0)\n"
          ],
          "name": "stdout"
        }
      ]
    },
    {
      "cell_type": "code",
      "metadata": {
        "id": "i3Qn5xBYptl2"
      },
      "source": [
        "import jsonlines\n",
        "import networkx as nx\n",
        "import itertools\n",
        "import random\n",
        "\n",
        "import matplotlib.pyplot as plt\n",
        "import numpy as np\n",
        "import collections\n",
        "\n",
        "import scipy.sparse as sp\n",
        "from sklearn.metrics import roc_auc_score\n",
        "from sklearn.metrics import average_precision_score\n",
        "import pickle"
      ],
      "execution_count": 51,
      "outputs": []
    },
    {
      "cell_type": "markdown",
      "metadata": {
        "id": "Xly-nEGDqC5X"
      },
      "source": [
        "# Part 1: Select data and create network\n",
        "I will be working with authors as nodes and co-author relationships as edges.\n",
        "\n",
        "I will be using a random sample of 1000 papers from dblp-ref-1.json. I am choosing this approach because it limits the graph to a reasonable size while eliminating as much bias in the selection process as possible. \n",
        "\n",
        "For example, choosing a random sample of 1000 nodes would disproportionately favor lower-degree nodes since those are much more common in the dataset. Choosing a connected subgraph or choosing only papers from a certain venue might artificially centralize certain nodes. Thus, this is the most interesting approach that I came up with.\n",
        "\n",
        "Change the following PATH to locate the json file:\n"
      ]
    },
    {
      "cell_type": "code",
      "metadata": {
        "id": "zhxCk3AvzUtT"
      },
      "source": [
        "PATH = '/content/drive/MyDrive/CISC351/dblp-ref/dblp-ref-1.json'\n",
        "# Seeds ensure consistent random samples across different runs\n",
        "random.seed(54154851)\n",
        "np.random.seed(54154851)"
      ],
      "execution_count": 52,
      "outputs": []
    },
    {
      "cell_type": "markdown",
      "metadata": {
        "id": "s4yPA3y9rlzT"
      },
      "source": [
        "Reading the raw data from the json file:"
      ]
    },
    {
      "cell_type": "code",
      "metadata": {
        "id": "6FK-pgvIqlba"
      },
      "source": [
        "# author_list_list : a list containing all authors of each paper\n",
        "# author_set       : a set containing all authors\n",
        "author_list_list = []\n",
        "author_set = set()\n",
        "\n",
        "with jsonlines.open(PATH) as reader:\n",
        "    for obj in reader:\n",
        "        try:\n",
        "            author_list_list.append(obj['authors'])\n",
        "        except:\n",
        "            pass\n",
        "\n",
        "author_list_list = random.sample(author_list_list, 1000)\n",
        "for author_list in author_list_list:\n",
        "    for author in author_list:\n",
        "        author_set.add(author)"
      ],
      "execution_count": 53,
      "outputs": []
    },
    {
      "cell_type": "markdown",
      "metadata": {
        "id": "K7p1Kok5sE94"
      },
      "source": [
        "Creating the network graph:"
      ]
    },
    {
      "cell_type": "code",
      "metadata": {
        "id": "3YxULO4zsIvk"
      },
      "source": [
        "G = nx.Graph()\n",
        "\n",
        "# Adds a node for each author in author_set\n",
        "# Using a set to ensure no duplicates\n",
        "for author in author_set:\n",
        "    G.add_node(author)\n",
        "\n",
        "# Using itertools, enumerates each pair of co-authors and adds that edge to the Graph\n",
        "for author_list in author_list_list:\n",
        "    relationships = itertools.combinations(author_list, 2)\n",
        "    for edge in relationships:\n",
        "        G.add_edge(edge[0], edge[1], color='r')"
      ],
      "execution_count": 54,
      "outputs": []
    },
    {
      "cell_type": "markdown",
      "metadata": {
        "id": "GdilDuKIsmIW"
      },
      "source": [
        "# Part 2: Network analysis, reporting basic statistics"
      ]
    },
    {
      "cell_type": "markdown",
      "metadata": {
        "id": "MFWyud2gswgx"
      },
      "source": [
        "Reporting statistics: "
      ]
    },
    {
      "cell_type": "code",
      "metadata": {
        "id": "JobMGRr3ssMO",
        "colab": {
          "base_uri": "https://localhost:8080/",
          "height": 403
        },
        "outputId": "37b80189-a735-444a-9f3f-08827891425e"
      },
      "source": [
        "print(\"Number of nodes: \", G.number_of_nodes())\n",
        "print(\"Number of edges: \", G.number_of_edges())\n",
        "\n",
        "degree_sequence = sorted([d for n, d in G.degree()], reverse=True)\n",
        "average_degree = sum(degree_sequence) / len(degree_sequence)\n",
        "\n",
        "print(\"Average degree: \", average_degree)\n",
        "try:\n",
        "    eccentricities = nx.algorithms.distance_measures.eccentricity(G)\n",
        "    print(\"Radius: \", nx.algorithms.distance_measures.radius(G, eccentricities))\n",
        "    print(\"Diameter: \", nx.algorithms.distance_measures.diameter(G, eccentricities))\n",
        "except nx.exception.NetworkXError as e:\n",
        "    if str(e) == \"Found infinite path length because the graph is not connected\":\n",
        "        print(\"Radius and Diameter are infinite because the graph is not connected\")\n",
        "print(\"Density: \", nx.classes.function.density(G))\n",
        "nx.draw(G, node_size=5, edgelist=G.edges)\n",
        "plt.draw()"
      ],
      "execution_count": 55,
      "outputs": [
        {
          "output_type": "stream",
          "text": [
            "Number of nodes:  2896\n",
            "Number of edges:  4180\n",
            "Average degree:  2.886740331491713\n",
            "Radius and Diameter are infinite because the graph is not connected\n",
            "Density:  0.0009971469193408335\n"
          ],
          "name": "stdout"
        },
        {
          "output_type": "display_data",
          "data": {
            "image/png": "[encoded data removed]",
            "text/plain": [
              "<Figure size 432x288 with 1 Axes>"
            ]
          },
          "metadata": {
            "tags": []
          }
        }
      ]
    },
    {
      "cell_type": "markdown",
      "metadata": {
        "id": "n7UscWvFhx22"
      },
      "source": [
        "Basic statistics:\n",
        "\n",
        "*   Number of nodes: 2896\n",
        "*   Number of edges: 4180\n",
        "*   Average degree: 2.887\n",
        "*   Graph is not connected so radius and diameter are infinite\n",
        "*   Density: 0.0009971\n",
        "\n"
      ]
    },
    {
      "cell_type": "markdown",
      "metadata": {
        "id": "AIBIAMztszz8"
      },
      "source": [
        "Generating a histogram: "
      ]
    },
    {
      "cell_type": "code",
      "metadata": {
        "id": "LyTr9ARXs7yV",
        "colab": {
          "base_uri": "https://localhost:8080/",
          "height": 265
        },
        "outputId": "a9db41d7-03f8-4bed-88c1-0da35ed219b8"
      },
      "source": [
        "degreeCount = collections.Counter(degree_sequence)\n",
        "deg, cnt = zip(*degreeCount.items())\n",
        "\n",
        "plt.bar(deg, cnt)\n",
        "plt.show()"
      ],
      "execution_count": 56,
      "outputs": [
        {
          "output_type": "display_data",
          "data": {
            "image/png": "[encoded data removed]",
            "text/plain": [
              "<Figure size 432x288 with 1 Axes>"
            ]
          },
          "metadata": {
            "tags": [],
            "needs_background": "light"
          }
        }
      ]
    },
    {
      "cell_type": "markdown",
      "metadata": {
        "id": "C2aI9rR70E-B"
      },
      "source": [
        "The average degree and density show that the graph is relatively sparse, which is expected since it's impossible for a human to write more than a certain number of scholarly papers in his/her lifetime (and thus it's impossible to co-author with more than a certain number of people). \n",
        "\n",
        "The most common degree is 2, which is shown on the histogram. There are also some nodes with no edges, which indicates that some authors in the dataset have not collaborated. \n",
        "\n",
        "We can also see that very few authors have collaborated with 10 or more others. This is expected, since it takes a lot of time and effort to publish a paper and many authors might not have even published that many papers. "
      ]
    },
    {
      "cell_type": "markdown",
      "metadata": {
        "id": "OmnBMXPDy6vT"
      },
      "source": [
        "# Part 3: Node centrality analysis"
      ]
    },
    {
      "cell_type": "code",
      "metadata": {
        "id": "JxqfJxVly-ZW",
        "colab": {
          "base_uri": "https://localhost:8080/"
        },
        "outputId": "0026c50a-c5a0-4f67-ee61-c8a003ed80da"
      },
      "source": [
        "degree = nx.algorithms.centrality.degree_centrality(G)\n",
        "print(sorted(degree, key=degree.get, reverse=True)[0:3])\n",
        "load = nx.algorithms.centrality.load_centrality(G, cutoff=5)\n",
        "print(sorted(load, key=load.get, reverse=True)[0:3])\n",
        "betweenness = nx.algorithms.centrality.betweenness_centrality(G)\n",
        "print(sorted(betweenness, key=betweenness.get, reverse=True)[0:3])"
      ],
      "execution_count": 57,
      "outputs": [
        {
          "output_type": "stream",
          "text": [
            "['Rui Zhang', 'Zhaowen Wang', 'Xiaokang Yang']\n",
            "['Rui Zhang', 'Huei Peng', 'Jessy W. Grizzle']\n",
            "['Rui Zhang', 'Huei Peng', 'Jessy W. Grizzle']\n"
          ],
          "name": "stdout"
        }
      ]
    },
    {
      "cell_type": "code",
      "metadata": {
        "id": "KYzr0shtOUYQ",
        "colab": {
          "base_uri": "https://localhost:8080/",
          "height": 793
        },
        "outputId": "752afcbe-c8aa-48e4-a207-3c4027226ae0"
      },
      "source": [
        "for measure in [degree, load, betweenness]:\n",
        "    sequence = sorted([measure[n] for n in measure], reverse=True)\n",
        "    plt.hist(sequence, bins=25)\n",
        "    plt.show()"
      ],
      "execution_count": 58,
      "outputs": [
        {
          "output_type": "display_data",
          "data": {
            "image/png": "[encoded data removed]",
            "text/plain": [
              "<Figure size 432x288 with 1 Axes>"
            ]
          },
          "metadata": {
            "tags": [],
            "needs_background": "light"
          }
        },
        {
          "output_type": "display_data",
          "data": {
            "image/png": "[encoded data removed]",
            "text/plain": [
              "<Figure size 432x288 with 1 Axes>"
            ]
          },
          "metadata": {
            "tags": [],
            "needs_background": "light"
          }
        },
        {
          "output_type": "display_data",
          "data": {
            "image/png": "[encoded data removed]",
            "text/plain": [
              "<Figure size 432x288 with 1 Axes>"
            ]
          },
          "metadata": {
            "tags": [],
            "needs_background": "light"
          }
        }
      ]
    },
    {
      "cell_type": "markdown",
      "metadata": {
        "id": "ZQuBlnQiKGLU"
      },
      "source": [
        "The most central nodes in each measure are shown above. The most central node, Rui Zhang, is common in all measures. Interestingly, the second and third most central nodes for degree centrality are different than for the other measures. This indicates that even though Xiaokang Yang has collaborated with more authors, Huei Peng's collaborators are more important in the network.\n",
        "\n",
        "The degree centrality shows the same distribution as the graph's degrees. This is expected since degree centrality is based directly on degree.\n",
        "\n",
        "The distribution of the other two centralities indicate that the majority of all nodes are very non-central, with a few that are more central than the rest. This indicates that a small group of nodes acts like a 'hub' which connects other disconnected nodes. \n",
        "\n",
        "Since the graph is so disconnected, it's expected that centrality measures are so low for all nodes. "
      ]
    },
    {
      "cell_type": "markdown",
      "metadata": {
        "id": "ygF50D8ViXl_"
      },
      "source": [
        "# Part 4: Link prediction"
      ]
    },
    {
      "cell_type": "markdown",
      "metadata": {
        "id": "GlU0V9MMjMmJ"
      },
      "source": [
        "The following methods are taken from the link https://github.com/lucashu1/link-prediction/blob/master/link-prediction-baselines.ipynb (given in the assignment) and its dependancies. The dependancy ```gae``` was written for Python 2.7, so the methods here are updated for Python 3.7. "
      ]
    },
    {
      "cell_type": "code",
      "metadata": {
        "id": "UU3nBNdQjfDX"
      },
      "source": [
        "def sparse_to_tuple(sparse_mx):\n",
        "    if not sp.isspmatrix_coo(sparse_mx):\n",
        "        sparse_mx = sparse_mx.tocoo()\n",
        "    coords = np.vstack((sparse_mx.row, sparse_mx.col)).transpose()\n",
        "    values = sparse_mx.data\n",
        "    shape = sparse_mx.shape\n",
        "    return coords, values, shape\n",
        "\n",
        "def mask_test_edges(adj, test_frac=.1, val_frac=.05, prevent_disconnect=True, verbose=False):\n",
        "    # NOTE: Splits are randomized and results might slightly deviate from reported numbers in the paper.\n",
        "\n",
        "    # Remove diagonal elements\n",
        "    adj = adj - sp.dia_matrix((adj.diagonal()[np.newaxis, :], [0]), shape=adj.shape)\n",
        "    adj.eliminate_zeros()\n",
        "    # Check that diag is zero:\n",
        "    assert np.diag(adj.todense()).sum() == 0\n",
        "\n",
        "    g = nx.from_scipy_sparse_matrix(adj)\n",
        "    orig_num_cc = nx.number_connected_components(g)\n",
        "\n",
        "    adj_triu = sp.triu(adj) # upper triangular portion of adj matrix\n",
        "    adj_tuple = sparse_to_tuple(adj_triu) # (coords, values, shape), edges only 1 way\n",
        "    edges = adj_tuple[0] # all edges, listed only once (not 2 ways)\n",
        "    # edges_all = sparse_to_tuple(adj)[0] # ALL edges (includes both ways)\n",
        "    num_test = int(np.floor(edges.shape[0] * test_frac)) # controls how large the test set should be\n",
        "    num_val = int(np.floor(edges.shape[0] * val_frac)) # controls how alrge the validation set should be\n",
        "\n",
        "    # Store edges in list of ordered tuples (node1, node2) where node1 < node2\n",
        "    edge_tuples = [(min(edge[0], edge[1]), max(edge[0], edge[1])) for edge in edges]\n",
        "    all_edge_tuples = set(edge_tuples)\n",
        "    train_edges = set(edge_tuples) # initialize train_edges to have all edges\n",
        "    test_edges = set()\n",
        "    val_edges = set()\n",
        "\n",
        "    # Iterate over shuffled edges, add to train/val sets\n",
        "    np.random.shuffle(edge_tuples)\n",
        "    for edge in edge_tuples:\n",
        "        # print edge\n",
        "        node1 = edge[0]\n",
        "        node2 = edge[1]\n",
        "\n",
        "        # If removing edge would disconnect a connected component, backtrack and move on\n",
        "        g.remove_edge(node1, node2)\n",
        "        if prevent_disconnect == True:\n",
        "            if nx.number_connected_components(g) > orig_num_cc:\n",
        "                g.add_edge(node1, node2)\n",
        "                continue\n",
        "\n",
        "        # Fill test_edges first\n",
        "        if len(test_edges) < num_test:\n",
        "            test_edges.add(edge)\n",
        "            train_edges.remove(edge)\n",
        "\n",
        "        # Then, fill val_edges\n",
        "        elif len(val_edges) < num_val:\n",
        "            val_edges.add(edge)\n",
        "            train_edges.remove(edge)\n",
        "\n",
        "        # Both edge lists full --> break loop\n",
        "        elif len(test_edges) == num_test and len(val_edges) == num_val:\n",
        "            break\n",
        "\n",
        "    if (len(val_edges) < num_val or len(test_edges) < num_test):\n",
        "        print(\"WARNING: not enough removable edges to perform full train-test split!\")\n",
        "        print(\"Num. (test, val) edges requested: (\", num_test, \", \", num_val, \")\")\n",
        "        print(\"Num. (test, val) edges returned: (\", len(test_edges), \", \", len(val_edges), \")\")\n",
        "\n",
        "    if prevent_disconnect == True:\n",
        "        assert nx.number_connected_components(g) == orig_num_cc\n",
        "\n",
        "    test_edges_false = set()\n",
        "    while len(test_edges_false) < num_test:\n",
        "        idx_i = np.random.randint(0, adj.shape[0])\n",
        "        idx_j = np.random.randint(0, adj.shape[0])\n",
        "        if idx_i == idx_j:\n",
        "            continue\n",
        "\n",
        "        false_edge = (min(idx_i, idx_j), max(idx_i, idx_j))\n",
        "\n",
        "        # Make sure false_edge not an actual edge, and not a repeat\n",
        "        if false_edge in all_edge_tuples:\n",
        "            continue\n",
        "        if false_edge in test_edges_false:\n",
        "            continue\n",
        "\n",
        "        test_edges_false.add(false_edge)\n",
        "\n",
        "    val_edges_false = set()\n",
        "    while len(val_edges_false) < num_val:\n",
        "        idx_i = np.random.randint(0, adj.shape[0])\n",
        "        idx_j = np.random.randint(0, adj.shape[0])\n",
        "        if idx_i == idx_j:\n",
        "            continue\n",
        "\n",
        "        false_edge = (min(idx_i, idx_j), max(idx_i, idx_j))\n",
        "\n",
        "        # Make sure false_edge in not an actual edge, not in test_edges_false, not a repeat\n",
        "        if false_edge in all_edge_tuples or \\\n",
        "            false_edge in test_edges_false or \\\n",
        "            false_edge in val_edges_false:\n",
        "            continue\n",
        "            \n",
        "        val_edges_false.add(false_edge)\n",
        "\n",
        "    train_edges_false = set()\n",
        "    while len(train_edges_false) < len(train_edges):\n",
        "        idx_i = np.random.randint(0, adj.shape[0])\n",
        "        idx_j = np.random.randint(0, adj.shape[0])\n",
        "        if idx_i == idx_j:\n",
        "            continue\n",
        "\n",
        "        false_edge = (min(idx_i, idx_j), max(idx_i, idx_j))\n",
        "\n",
        "        # Make sure false_edge in not an actual edge, not in test_edges_false, \n",
        "            # not in val_edges_false, not a repeat\n",
        "        if false_edge in all_edge_tuples or \\\n",
        "            false_edge in test_edges_false or \\\n",
        "            false_edge in val_edges_false or \\\n",
        "            false_edge in train_edges_false:\n",
        "            continue\n",
        "\n",
        "        train_edges_false.add(false_edge)\n",
        "\n",
        "    # assert: false_edges are actually false (not in all_edge_tuples)\n",
        "    assert test_edges_false.isdisjoint(all_edge_tuples)\n",
        "    assert val_edges_false.isdisjoint(all_edge_tuples)\n",
        "    assert train_edges_false.isdisjoint(all_edge_tuples)\n",
        "\n",
        "    # assert: test, val, train false edges disjoint\n",
        "    assert test_edges_false.isdisjoint(val_edges_false)\n",
        "    assert test_edges_false.isdisjoint(train_edges_false)\n",
        "    assert val_edges_false.isdisjoint(train_edges_false)\n",
        "\n",
        "    # assert: test, val, train positive edges disjoint\n",
        "    assert val_edges.isdisjoint(train_edges)\n",
        "    assert test_edges.isdisjoint(train_edges)\n",
        "    assert val_edges.isdisjoint(test_edges)\n",
        "\n",
        "    # Re-build adj matrix using remaining graph\n",
        "    adj_train = nx.adjacency_matrix(g)\n",
        "\n",
        "    # Convert edge-lists to numpy arrays\n",
        "    train_edges = np.array([list(edge_tuple) for edge_tuple in train_edges])\n",
        "    train_edges_false = np.array([list(edge_tuple) for edge_tuple in train_edges_false])\n",
        "    val_edges = np.array([list(edge_tuple) for edge_tuple in val_edges])\n",
        "    val_edges_false = np.array([list(edge_tuple) for edge_tuple in val_edges_false])\n",
        "    test_edges = np.array([list(edge_tuple) for edge_tuple in test_edges])\n",
        "    test_edges_false = np.array([list(edge_tuple) for edge_tuple in test_edges_false])\n",
        "\n",
        "    # NOTE: these edge lists only contain single direction of edge!\n",
        "    return adj_train, train_edges, train_edges_false, \\\n",
        "        val_edges, val_edges_false, test_edges, test_edges_false\n",
        "\n",
        "def get_roc_score(edges_pos, edges_neg, score_matrix):\n",
        "    # Store positive edge predictions, actual values\n",
        "    preds_pos = []\n",
        "    pos = []\n",
        "    for edge in edges_pos:\n",
        "        preds_pos.append(score_matrix[edge[0], edge[1]]) # predicted score\n",
        "        pos.append(adj_sparse[edge[0], edge[1]]) # actual value (1 for positive)\n",
        "        \n",
        "    # Store negative edge predictions, actual values\n",
        "    preds_neg = []\n",
        "    neg = []\n",
        "    for edge in edges_neg:\n",
        "        preds_neg.append(score_matrix[edge[0], edge[1]]) # predicted score\n",
        "        neg.append(adj_sparse[edge[0], edge[1]]) # actual value (0 for negative)\n",
        "        \n",
        "    # Calculate scores\n",
        "    preds_all = np.hstack([preds_pos, preds_neg])\n",
        "    labels_all = np.hstack([np.ones(len(preds_pos)), np.zeros(len(preds_neg))])\n",
        "    roc_score = roc_auc_score(labels_all, preds_all)\n",
        "    ap_score = average_precision_score(labels_all, preds_all)\n",
        "    return roc_score, ap_score"
      ],
      "execution_count": 59,
      "outputs": []
    },
    {
      "cell_type": "markdown",
      "metadata": {
        "id": "xB8TavbLSzZw"
      },
      "source": [
        "Training/Testing split:"
      ]
    },
    {
      "cell_type": "code",
      "metadata": {
        "id": "ypNgVwv6ijB3"
      },
      "source": [
        "adj = nx.to_scipy_sparse_matrix(G)\n",
        "adj_sparse = nx.to_scipy_sparse_matrix(G)\n",
        "\n",
        "# Perform train-test split\n",
        "adj_train, train_edges, train_edges_false, val_edges, val_edges_false, \\\n",
        "    test_edges, test_edges_false = mask_test_edges(adj_sparse)\n",
        "g_train = nx.from_scipy_sparse_matrix(adj_train) # new graph object with only non-hidden edges"
      ],
      "execution_count": 60,
      "outputs": []
    },
    {
      "cell_type": "markdown",
      "metadata": {
        "id": "iDMFUxVGjoZY"
      },
      "source": [
        "**Adamic-Adar**"
      ]
    },
    {
      "cell_type": "code",
      "metadata": {
        "id": "CSAOwxq4jgmJ",
        "colab": {
          "base_uri": "https://localhost:8080/"
        },
        "outputId": "9252d0c9-926c-4125-d624-e329ced4b95b"
      },
      "source": [
        "# Compute Adamic-Adar indexes from g_train\n",
        "aa_matrix = np.zeros(adj.shape)\n",
        "for u, v, p in nx.adamic_adar_index(g_train): # (u, v) = node indices, p = Adamic-Adar index\n",
        "    aa_matrix[u][v] = p\n",
        "    aa_matrix[v][u] = p # make sure it's symmetric\n",
        "    \n",
        "# Normalize array\n",
        "aa_matrix = aa_matrix / aa_matrix.max()\n",
        "\n",
        "# Calculate ROC AUC and Average Precision\n",
        "aa_roc, aa_ap = get_roc_score(test_edges, test_edges_false, aa_matrix)\n",
        "\n",
        "print('Adamic-Adar Test ROC score: ', str(aa_roc))\n",
        "print('Adamic-Adar Test AP score: ', str(aa_ap))"
      ],
      "execution_count": 61,
      "outputs": [
        {
          "output_type": "stream",
          "text": [
            "Adamic-Adar Test ROC score:  0.9964114832535885\n",
            "Adamic-Adar Test AP score:  0.9964114832535883\n"
          ],
          "name": "stdout"
        }
      ]
    },
    {
      "cell_type": "markdown",
      "metadata": {
        "id": "wezQw8BaW2Lo"
      },
      "source": [
        "**Node2vec**\n",
        "\n",
        "The following class and methods are adapted from the node2vec source code given here: https://github.com/aditya-grover/node2vec/blob/master/src/node2vec.py. I had difficulties importing the module, so I copied the necessary methods from the source."
      ]
    },
    {
      "cell_type": "code",
      "metadata": {
        "id": "W5Unw1LwZJR3"
      },
      "source": [
        "class n2v_Graph():\n",
        "\tdef __init__(self, nx_G, is_directed, p, q):\n",
        "\t\tself.G = nx_G\n",
        "\t\tself.is_directed = is_directed\n",
        "\t\tself.p = p\n",
        "\t\tself.q = q\n",
        "\n",
        "\tdef node2vec_walk(self, walk_length, start_node):\n",
        "\t\t'''\n",
        "\t\tSimulate a random walk starting from start node.\n",
        "\t\t'''\n",
        "\t\tG = self.G\n",
        "\t\talias_nodes = self.alias_nodes\n",
        "\t\talias_edges = self.alias_edges\n",
        "\n",
        "\t\twalk = [start_node]\n",
        "\n",
        "\t\twhile len(walk) < walk_length:\n",
        "\t\t\tcur = walk[-1]\n",
        "\t\t\tcur_nbrs = sorted(G.neighbors(cur))\n",
        "\t\t\tif len(cur_nbrs) > 0:\n",
        "\t\t\t\tif len(walk) == 1:\n",
        "\t\t\t\t\twalk.append(cur_nbrs[alias_draw(alias_nodes[cur][0], alias_nodes[cur][1])])\n",
        "\t\t\t\telse:\n",
        "\t\t\t\t\tprev = walk[-2]\n",
        "\t\t\t\t\tnext = cur_nbrs[alias_draw(alias_edges[(prev, cur)][0], \n",
        "\t\t\t\t\t\talias_edges[(prev, cur)][1])]\n",
        "\t\t\t\t\twalk.append(next)\n",
        "\t\t\telse:\n",
        "\t\t\t\tbreak\n",
        "\n",
        "\t\treturn walk\n",
        "\n",
        "\tdef simulate_walks(self, num_walks, walk_length):\n",
        "\t\t'''\n",
        "\t\tRepeatedly simulate random walks from each node.\n",
        "\t\t'''\n",
        "\t\tG = self.G\n",
        "\t\twalks = []\n",
        "\t\tnodes = list(G.nodes())\n",
        "\t\tprint('Walk iteration:')\n",
        "\t\tfor walk_iter in range(num_walks):\n",
        "\t\t\tprint(str(walk_iter+1), '/', str(num_walks))\n",
        "\t\t\trandom.shuffle(nodes)\n",
        "\t\t\tfor node in nodes:\n",
        "\t\t\t\twalks.append(self.node2vec_walk(walk_length=walk_length, start_node=node))\n",
        "\n",
        "\t\treturn walks\n",
        "\n",
        "\tdef get_alias_edge(self, src, dst):\n",
        "\t\t'''\n",
        "\t\tGet the alias edge setup lists for a given edge.\n",
        "\t\t'''\n",
        "\t\tG = self.G\n",
        "\t\tp = self.p\n",
        "\t\tq = self.q\n",
        "\n",
        "\t\tunnormalized_probs = []\n",
        "\t\tfor dst_nbr in sorted(G.neighbors(dst)):\n",
        "\t\t\tif dst_nbr == src:\n",
        "\t\t\t\tunnormalized_probs.append(G[dst][dst_nbr]['weight']/p)\n",
        "\t\t\telif G.has_edge(dst_nbr, src):\n",
        "\t\t\t\tunnormalized_probs.append(G[dst][dst_nbr]['weight'])\n",
        "\t\t\telse:\n",
        "\t\t\t\tunnormalized_probs.append(G[dst][dst_nbr]['weight']/q)\n",
        "\t\tnorm_const = sum(unnormalized_probs)\n",
        "\t\tnormalized_probs =  [float(u_prob)/norm_const for u_prob in unnormalized_probs]\n",
        "\n",
        "\t\treturn alias_setup(normalized_probs)\n",
        "\n",
        "\tdef preprocess_transition_probs(self):\n",
        "\t\t'''\n",
        "\t\tPreprocessing of transition probabilities for guiding the random walks.\n",
        "\t\t'''\n",
        "\t\tG = self.G\n",
        "\t\tis_directed = self.is_directed\n",
        "\n",
        "\t\talias_nodes = {}\n",
        "\t\tfor node in G.nodes():\n",
        "\t\t\tunnormalized_probs = [G[node][nbr]['weight'] for nbr in sorted(G.neighbors(node))]\n",
        "\t\t\tnorm_const = sum(unnormalized_probs)\n",
        "\t\t\tnormalized_probs =  [float(u_prob)/norm_const for u_prob in unnormalized_probs]\n",
        "\t\t\talias_nodes[node] = alias_setup(normalized_probs)\n",
        "\n",
        "\t\talias_edges = {}\n",
        "\t\ttriads = {}\n",
        "\n",
        "\t\tif is_directed:\n",
        "\t\t\tfor edge in G.edges():\n",
        "\t\t\t\talias_edges[edge] = self.get_alias_edge(edge[0], edge[1])\n",
        "\t\telse:\n",
        "\t\t\tfor edge in G.edges():\n",
        "\t\t\t\talias_edges[edge] = self.get_alias_edge(edge[0], edge[1])\n",
        "\t\t\t\talias_edges[(edge[1], edge[0])] = self.get_alias_edge(edge[1], edge[0])\n",
        "\n",
        "\t\tself.alias_nodes = alias_nodes\n",
        "\t\tself.alias_edges = alias_edges\n",
        "\n",
        "\t\treturn\n",
        "\n",
        "def alias_setup(probs):\n",
        "\t'''\n",
        "\tCompute utility lists for non-uniform sampling from discrete distributions.\n",
        "\tRefer to https://hips.seas.harvard.edu/blog/2013/03/03/the-alias-method-efficient-sampling-with-many-discrete-outcomes/\n",
        "\tfor details\n",
        "\t'''\n",
        "\tK = len(probs)\n",
        "\tq = np.zeros(K)\n",
        "\tJ = np.zeros(K, dtype=np.int)\n",
        "\n",
        "\tsmaller = []\n",
        "\tlarger = []\n",
        "\tfor kk, prob in enumerate(probs):\n",
        "\t    q[kk] = K*prob\n",
        "\t    if q[kk] < 1.0:\n",
        "\t        smaller.append(kk)\n",
        "\t    else:\n",
        "\t        larger.append(kk)\n",
        "\n",
        "\twhile len(smaller) > 0 and len(larger) > 0:\n",
        "\t    small = smaller.pop()\n",
        "\t    large = larger.pop()\n",
        "\n",
        "\t    J[small] = large\n",
        "\t    q[large] = q[large] + q[small] - 1.0\n",
        "\t    if q[large] < 1.0:\n",
        "\t        smaller.append(large)\n",
        "\t    else:\n",
        "\t        larger.append(large)\n",
        "\n",
        "\treturn J, q\n",
        "\n",
        "def alias_draw(J, q):\n",
        "\t'''\n",
        "\tDraw sample from a non-uniform discrete distribution using alias sampling.\n",
        "\t'''\n",
        "\tK = len(J)\n",
        "\n",
        "\tkk = int(np.floor(np.random.rand()*K))\n",
        "\tif np.random.rand() < q[kk]:\n",
        "\t    return kk\n",
        "\telse:\n",
        "\t    return J[kk]\n",
        "\n",
        "from gensim.models import Word2Vec\n",
        "\n",
        "# node2vec settings\n",
        "# NOTE: When p = q = 1, this is equivalent to DeepWalk\n",
        "\n",
        "P = 1 # Return hyperparameter\n",
        "Q = 1 # In-out hyperparameter\n",
        "WINDOW_SIZE = 10 # Context size for optimization\n",
        "NUM_WALKS = 10 # Number of walks per source\n",
        "WALK_LENGTH = 80 # Length of walk per source\n",
        "DIMENSIONS = 128 # Embedding dimension\n",
        "DIRECTED = False # Graph directed/undirected\n",
        "WORKERS = 8 # Num. parallel workers\n",
        "ITER = 1 # SGD epochs"
      ],
      "execution_count": 62,
      "outputs": []
    },
    {
      "cell_type": "code",
      "metadata": {
        "colab": {
          "base_uri": "https://localhost:8080/"
        },
        "id": "valW8XBqXapP",
        "outputId": "0106152a-fc2c-4c8e-8531-b9e80759713e"
      },
      "source": [
        "# Preprocessing, generate walks\n",
        "g_n2v = n2v_Graph(g_train, DIRECTED, P, Q) # create node2vec graph instance\n",
        "g_n2v.preprocess_transition_probs()\n",
        "walks = g_n2v.simulate_walks(NUM_WALKS, WALK_LENGTH)\n",
        "walks = [list(map(str, walk)) for walk in walks]\n",
        "\n",
        "# Train skip-gram model\n",
        "model = Word2Vec(walks, size=DIMENSIONS, window=WINDOW_SIZE, min_count=0, sg=1, workers=WORKERS, iter=ITER)\n",
        "\n",
        "# Store embeddings mapping\n",
        "emb_mappings = model.wv\n",
        "\n",
        "# Create node embeddings matrix (rows = nodes, columns = embedding features)\n",
        "emb_list = []\n",
        "for node_index in range(0, adj_sparse.shape[0]):\n",
        "    node_str = str(node_index)\n",
        "    node_emb = emb_mappings[node_str]\n",
        "    emb_list.append(node_emb)\n",
        "emb_matrix = np.vstack(emb_list)\n",
        "\n",
        "# Generate bootstrapped edge embeddings (as is done in node2vec paper)\n",
        "    # Edge embedding for (v1, v2) = hadamard product of node embeddings for v1, v2\n",
        "def get_edge_embeddings(edge_list):\n",
        "    embs = []\n",
        "    for edge in edge_list:\n",
        "        node1 = edge[0]\n",
        "        node2 = edge[1]\n",
        "        emb1 = emb_matrix[node1]\n",
        "        emb2 = emb_matrix[node2]\n",
        "        edge_emb = np.multiply(emb1, emb2)\n",
        "        embs.append(edge_emb)\n",
        "    embs = np.array(embs)\n",
        "    return embs\n",
        "\n",
        "# Train-set edge embeddings\n",
        "pos_train_edge_embs = get_edge_embeddings(train_edges)\n",
        "neg_train_edge_embs = get_edge_embeddings(train_edges_false)\n",
        "train_edge_embs = np.concatenate([pos_train_edge_embs, neg_train_edge_embs])\n",
        "\n",
        "# Create train-set edge labels: 1 = real edge, 0 = false edge\n",
        "train_edge_labels = np.concatenate([np.ones(len(train_edges)), np.zeros(len(train_edges_false))])\n",
        "\n",
        "# Val-set edge embeddings, labels\n",
        "pos_val_edge_embs = get_edge_embeddings(val_edges)\n",
        "neg_val_edge_embs = get_edge_embeddings(val_edges_false)\n",
        "val_edge_embs = np.concatenate([pos_val_edge_embs, neg_val_edge_embs])\n",
        "val_edge_labels = np.concatenate([np.ones(len(val_edges)), np.zeros(len(val_edges_false))])\n",
        "\n",
        "# Test-set edge embeddings, labels\n",
        "pos_test_edge_embs = get_edge_embeddings(test_edges)\n",
        "neg_test_edge_embs = get_edge_embeddings(test_edges_false)\n",
        "test_edge_embs = np.concatenate([pos_test_edge_embs, neg_test_edge_embs])\n",
        "\n",
        "# Create val-set edge labels: 1 = real edge, 0 = false edge\n",
        "test_edge_labels = np.concatenate([np.ones(len(test_edges)), np.zeros(len(test_edges_false))])"
      ],
      "execution_count": 63,
      "outputs": [
        {
          "output_type": "stream",
          "text": [
            "Walk iteration:\n",
            "1 / 10\n",
            "2 / 10\n",
            "3 / 10\n",
            "4 / 10\n",
            "5 / 10\n",
            "6 / 10\n",
            "7 / 10\n",
            "8 / 10\n",
            "9 / 10\n",
            "10 / 10\n"
          ],
          "name": "stdout"
        }
      ]
    },
    {
      "cell_type": "code",
      "metadata": {
        "colab": {
          "base_uri": "https://localhost:8080/"
        },
        "id": "6co3_WypXykQ",
        "outputId": "3c786473-d14b-4619-fee2-6a37f152911a"
      },
      "source": [
        "# Train logistic regression classifier on train-set edge embeddings\n",
        "from sklearn.linear_model import LogisticRegression\n",
        "edge_classifier = LogisticRegression(random_state=0)\n",
        "edge_classifier.fit(train_edge_embs, train_edge_labels)"
      ],
      "execution_count": 64,
      "outputs": [
        {
          "output_type": "execute_result",
          "data": {
            "text/plain": [
              "LogisticRegression(C=1.0, class_weight=None, dual=False, fit_intercept=True,\n",
              "                   intercept_scaling=1, l1_ratio=None, max_iter=100,\n",
              "                   multi_class='auto', n_jobs=None, penalty='l2',\n",
              "                   random_state=0, solver='lbfgs', tol=0.0001, verbose=0,\n",
              "                   warm_start=False)"
            ]
          },
          "metadata": {
            "tags": []
          },
          "execution_count": 64
        }
      ]
    },
    {
      "cell_type": "code",
      "metadata": {
        "colab": {
          "base_uri": "https://localhost:8080/"
        },
        "id": "5PEpzciGX1Mc",
        "outputId": "0010b7dc-1257-4c33-be47-987e4c36a4cb"
      },
      "source": [
        "# Predicted edge scores: probability of being of class \"1\" (real edge)\n",
        "val_preds = edge_classifier.predict_proba(val_edge_embs)[:, 1]\n",
        "val_roc = roc_auc_score(val_edge_labels, val_preds)\n",
        "val_ap = average_precision_score(val_edge_labels, val_preds)\n",
        "\n",
        "# Predicted edge scores: probability of being of class \"1\" (real edge)\n",
        "test_preds = edge_classifier.predict_proba(test_edge_embs)[:, 1]\n",
        "test_roc = roc_auc_score(test_edge_labels, test_preds)\n",
        "test_ap = average_precision_score(test_edge_labels, test_preds)\n",
        "\n",
        "print('node2vec Validation ROC score: ', str(val_roc))\n",
        "print('node2vec Validation AP score: ', str(val_ap))\n",
        "print('node2vec Test ROC score: ', str(test_roc))\n",
        "print('node2vec Test AP score: ', str(test_ap))"
      ],
      "execution_count": 65,
      "outputs": [
        {
          "output_type": "stream",
          "text": [
            "node2vec Validation ROC score:  0.9398823287012659\n",
            "node2vec Validation AP score:  0.9573987343561774\n",
            "node2vec Test ROC score:  0.9545569011698452\n",
            "node2vec Test AP score:  0.9670322991552138\n"
          ],
          "name": "stdout"
        }
      ]
    },
    {
      "cell_type": "markdown",
      "metadata": {
        "id": "gsW0P00wp4j8"
      },
      "source": [
        "**Measures considered:**\n",
        "\n",
        "ROC-AUC (area under the receiver operating characteristic curve) - classification based evaluation measure\n",
        "\n",
        "AP (average precision score) - ranking based evaluation measure\n",
        "\n",
        "**Adamic-Adar index (unsupervised method):**\n",
        "\n",
        "* ROC of 0.9964\n",
        "* Average precision of 0.9964\n",
        "\n",
        "**Node2vec (supervised method):**\n",
        "\n",
        "* Validation ROC of 0.9399\n",
        "* Validation AP of 0.9574\n",
        "* Testing ROC of 0.9546\n",
        "* Testing AP of 0.9670\n",
        "\n",
        "Both methods performed very well, but using the Adamic-Adar index was both faster and more accurate than the node2vec approach. Since node2vec employs random walks, it might be less suitable for use with a disconnected, sparse graph like the one I have."
      ]
    }
  ]
}